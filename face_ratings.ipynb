{
 "cells": [
  {
   "cell_type": "code",
   "execution_count": 1,
   "metadata": {},
   "outputs": [
    {
     "name": "stderr",
     "output_type": "stream",
     "text": [
      "Version 7.4.0 of praw is outdated. Version 7.5.0 was released Sunday November 14, 2021.\n"
     ]
    }
   ],
   "source": [
    "from utils.common import download_multiple_images, iter_posts, load_data,save_data\n",
    "from utils.extract_faces import FaceExtractor\n",
    "import cv2\n",
    "from utils.regexes import extract_gender_age, extract_rating\n",
    "from config import SAVE_EVERY, DATA_PATH, IMG_PATH\n"
   ]
  },
  {
   "cell_type": "code",
   "execution_count": 2,
   "metadata": {},
   "outputs": [],
   "source": [
    "face_ratings = [\n",
    "    \"truerateme\",\n",
    "    \"Rateme\",\n",
    "    \"ratemyface\",\n",
    "]\n"
   ]
  },
  {
   "cell_type": "code",
   "execution_count": 3,
   "metadata": {},
   "outputs": [],
   "source": [
    "subreddit = \"Rateme\""
   ]
  },
  {
   "cell_type": "code",
   "execution_count": 4,
   "metadata": {},
   "outputs": [
    {
     "name": "stdout",
     "output_type": "stream",
     "text": [
      "Applied providers: ['CPUExecutionProvider'], with options: {'CPUExecutionProvider': {}}\n",
      "model ignore: /home/idk/.insightface/models/buffalo_m/1k3d68.onnx landmark_3d_68\n",
      "Applied providers: ['CPUExecutionProvider'], with options: {'CPUExecutionProvider': {}}\n",
      "model ignore: /home/idk/.insightface/models/buffalo_m/2d106det.onnx landmark_2d_106\n",
      "Applied providers: ['CPUExecutionProvider'], with options: {'CPUExecutionProvider': {}}\n",
      "find model: /home/idk/.insightface/models/buffalo_m/det_2.5g.onnx detection [1, 3, '?', '?'] 127.5 128.0\n",
      "Applied providers: ['CPUExecutionProvider'], with options: {'CPUExecutionProvider': {}}\n",
      "find model: /home/idk/.insightface/models/buffalo_m/genderage.onnx genderage ['None', 3, 96, 96] 0.0 1.0\n",
      "Applied providers: ['CPUExecutionProvider'], with options: {'CPUExecutionProvider': {}}\n",
      "find model: /home/idk/.insightface/models/buffalo_m/w600k_r50.onnx recognition ['None', 3, 112, 112] 127.5 127.5\n",
      "set det-size: (640, 640)\n"
     ]
    }
   ],
   "source": [
    "image_path = IMG_PATH / subreddit\n",
    "image_path.mkdir(exist_ok=True, parents=True)\n",
    "data_path = DATA_PATH / f\"{subreddit}.json\"\n",
    "\n",
    "face_extractor = FaceExtractor.default(additional_modules=[\"genderage\"])\n",
    "data = load_data(data_path)\n"
   ]
  },
  {
   "cell_type": "code",
   "execution_count": 5,
   "metadata": {},
   "outputs": [],
   "source": [
    "posts = iter_posts(subreddit, 5_000)\n"
   ]
  },
  {
   "cell_type": "code",
   "execution_count": 10,
   "metadata": {},
   "outputs": [
    {
     "name": "stderr",
     "output_type": "stream",
     "text": [
      "Rateme 2009-12-14 19:50:57: : 97142it [21:01:06,  3.20it/s]"
     ]
    }
   ],
   "source": [
    "for j, post in enumerate(posts):\n",
    "    if (\n",
    "        post.id in data\n",
    "        or post.removed_by_category\n",
    "        or post.num_comments == 0\n",
    "        or post.locked\n",
    "    ):\n",
    "        continue\n",
    "    try:\n",
    "        images = download_multiple_images(post)\n",
    "    except Exception:\n",
    "        continue\n",
    "\n",
    "    if not images:\n",
    "        continue\n",
    "\n",
    "    gender, age = extract_gender_age(post.title)\n",
    "\n",
    "    detections, faces, urls = face_extractor(\n",
    "        images, additional_modules=([\"genderage\"] if not (gender and age) else [])\n",
    "    )\n",
    "\n",
    "    if not detections:\n",
    "        continue\n",
    "\n",
    "    ratings = []\n",
    "\n",
    "    for comment in post.comments:\n",
    "        rating = extract_rating(comment.body)\n",
    "        ratings.append(\n",
    "            dict(\n",
    "                user=getattr(comment.author, \"name\", None),\n",
    "                value=rating,\n",
    "                body=comment.body,\n",
    "            )\n",
    "        )\n",
    "\n",
    "    post_data = dict(\n",
    "        gender=gender,\n",
    "        age=age,\n",
    "        urls=urls,\n",
    "        detections=detections,\n",
    "        title=post.title,\n",
    "        score=post.score,\n",
    "        author=getattr(post.author, \"name\", None),\n",
    "        ratings=ratings,\n",
    "    )\n",
    "\n",
    "    data[post.id] = post_data\n",
    "\n",
    "    for i, img in enumerate(faces):\n",
    "        img = cv2.cvtColor(img, cv2.COLOR_RGB2BGR)\n",
    "        cv2.imwrite(str(image_path / f\"{post.id}-{i}.jpg\"), img)\n",
    "\n",
    "    if j % SAVE_EVERY:\n",
    "        save_data(data_path, data)\n"
   ]
  },
  {
   "cell_type": "code",
   "execution_count": 11,
   "metadata": {},
   "outputs": [],
   "source": [
    "save_data(data_path, data)"
   ]
  }
 ],
 "metadata": {
  "interpreter": {
   "hash": "857db26dd6c269166d7b8aa7786db6678ea642effbb6ba9e7d19a98d9de7d68b"
  },
  "kernelspec": {
   "display_name": "Python 3.8.8 64-bit ('base': conda)",
   "language": "python",
   "name": "python3"
  },
  "language_info": {
   "codemirror_mode": {
    "name": "ipython",
    "version": 3
   },
   "file_extension": ".py",
   "mimetype": "text/x-python",
   "name": "python",
   "nbconvert_exporter": "python",
   "pygments_lexer": "ipython3",
   "version": "3.8.8"
  },
  "orig_nbformat": 4
 },
 "nbformat": 4,
 "nbformat_minor": 2
}
