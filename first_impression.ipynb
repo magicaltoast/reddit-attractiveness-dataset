{
 "cells": [
  {
   "cell_type": "code",
   "execution_count": null,
   "metadata": {},
   "outputs": [],
   "source": [
    "from common import iter_posts, download_multiple_images, NumpyEncoder\n",
    "from age_gender import get_age_gender\n",
    "from extract_faces import FaceExtractor\n",
    "from align import FaceAligner\n",
    "from pathlib import Path\n",
    "import json\n",
    "import cv2"
   ]
  },
  {
   "cell_type": "code",
   "execution_count": null,
   "metadata": {},
   "outputs": [],
   "source": [
    "aligner = FaceAligner(padding=2)\n",
    "face_extractor = FaceExtractor.default(aligner=aligner)\n",
    "\n",
    "data_path = Path(\"data/first_impression.json\")\n",
    "image_path = Path(\"/media/idk/idk1/true_rateme/first_impression\")\n",
    "save_every = 100\n"
   ]
  },
  {
   "cell_type": "code",
   "execution_count": null,
   "metadata": {},
   "outputs": [],
   "source": [
    "if data_path.exists():\n",
    "    with open(data_path) as f:\n",
    "        data = json.load(f)\n",
    "else:\n",
    "    data = {}"
   ]
  },
  {
   "cell_type": "code",
   "execution_count": null,
   "metadata": {},
   "outputs": [],
   "source": [
    "for j, post in enumerate(iter_posts(\"firstimpression\", 5_000)):\n",
    "    if (\n",
    "        post.id in data\n",
    "        or post.removed_by_category\n",
    "        or post.num_comments == 0\n",
    "        or post.locked\n",
    "    ):\n",
    "        continue\n",
    "    try:\n",
    "        images = download_multiple_images(post)\n",
    "    except Exception:\n",
    "        continue\n",
    "\n",
    "    if not images:\n",
    "        continue\n",
    "\n",
    "    detections, faces, urls = face_extractor(images)\n",
    "\n",
    "    if not detections:\n",
    "        continue\n",
    "\n",
    "    gender, age = get_age_gender(post)\n",
    "    comments = []\n",
    "    for comment in post.comments:\n",
    "        body = getattr(comment, \"body\", None)\n",
    "        if body:\n",
    "            comments.append(\n",
    "                dict(\n",
    "                    author=getattr(post.author, \"id\", None),\n",
    "                    text=body,\n",
    "                    score=post.score,\n",
    "                )\n",
    "            )\n",
    "\n",
    "    if not comments:\n",
    "        continue\n",
    "\n",
    "    post_data = dict(\n",
    "        gender=gender,\n",
    "        age=age,\n",
    "        urls=urls,\n",
    "        detections=detections,\n",
    "        title=post.title,\n",
    "        score=post.score,\n",
    "        author=getattr(post.author, \"id\", None),\n",
    "        comments=comments,\n",
    "    )\n",
    "\n",
    "    data[post.id] = post_data\n",
    "\n",
    "    for i, img in enumerate(faces):\n",
    "        img = cv2.cvtColor(img, cv2.COLOR_RGB2BGR)\n",
    "        cv2.imwrite(str(image_path / f\"{post.id}-{i}.jpg\"), img)\n",
    "\n",
    "    if j and j % save_every:\n",
    "        with open(data_path, \"w\") as f:\n",
    "            json.dump(data, f, cls=NumpyEncoder)\n"
   ]
  }
 ],
 "metadata": {
  "interpreter": {
   "hash": "857db26dd6c269166d7b8aa7786db6678ea642effbb6ba9e7d19a98d9de7d68b"
  },
  "kernelspec": {
   "display_name": "Python 3.8.8 64-bit ('base': conda)",
   "language": "python",
   "name": "python3"
  },
  "language_info": {
   "codemirror_mode": {
    "name": "ipython",
    "version": 3
   },
   "file_extension": ".py",
   "mimetype": "text/x-python",
   "name": "python",
   "nbconvert_exporter": "python",
   "pygments_lexer": "ipython3",
   "version": "3.8.8"
  },
  "orig_nbformat": 4
 },
 "nbformat": 4,
 "nbformat_minor": 2
}
