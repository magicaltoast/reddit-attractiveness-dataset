{
 "cells": [
  {
   "cell_type": "code",
   "execution_count": null,
   "metadata": {},
   "outputs": [],
   "source": [
    "from utils.common import iter_posts, r, download_multiple_images, load_data, save_data\n",
    "from config import DATA_PATH, IMG_PATH, SAVE_EVERY\n",
    "from itertools import chain\n",
    "from utils.align import FaceAligner\n",
    "from insightface.app import FaceAnalysis\n",
    "from utils.regexes import extract_ranking\n",
    "import cv2\n"
   ]
  },
  {
   "cell_type": "code",
   "execution_count": null,
   "metadata": {},
   "outputs": [],
   "source": [
    "subreddit = \"lineups\" # ranked_girls\n",
    "app = FaceAnalysis(name=\"buffalo_m\", allowed_modules=[\"detection\"])\n",
    "app.prepare(ctx_id=0, det_size=(640, 640))\n",
    "aligner = FaceAligner()\n",
    "\n",
    "data_path = DATA_PATH / f\"{subreddit}.json\"\n",
    "img_path = IMG_PATH / subreddit\n",
    "img_path.mkdir(exist_ok=True, parents=True)\n",
    "data = load_data(data_path)\n"
   ]
  },
  {
   "cell_type": "code",
   "execution_count": null,
   "metadata": {},
   "outputs": [],
   "source": [
    "def extract_multiple_faces(imgs):\n",
    "    aligned = []\n",
    "    detections = []\n",
    "    urls = []\n",
    "\n",
    "    for img, url in imgs:\n",
    "        faces = app.get(img)\n",
    "        if len(faces) != 1:\n",
    "            return [], [], []\n",
    "        aligned.append(aligner.from_insight_face(img, faces)[0])\n",
    "        detections.append(faces[0])\n",
    "        urls.append(url)\n",
    "\n",
    "    return aligned, detections, urls\n"
   ]
  },
  {
   "cell_type": "code",
   "execution_count": null,
   "metadata": {},
   "outputs": [],
   "source": [
    "posts = iter_posts(subreddit, 5_000)\n"
   ]
  },
  {
   "cell_type": "code",
   "execution_count": null,
   "metadata": {},
   "outputs": [],
   "source": [
    "for i, post in enumerate(posts):\n",
    "    if (\n",
    "        post.num_comments == 0\n",
    "        or post.locked\n",
    "        or post.removed_by_category\n",
    "        or post.id in data\n",
    "    ):\n",
    "        continue\n",
    "\n",
    "    ratings = []\n",
    "\n",
    "    if author_rating := extract_ranking(post.title):\n",
    "        ratings.append(\n",
    "            dict(\n",
    "                values=author_rating,\n",
    "                author=getattr(post.author, \"name\", None),\n",
    "                text=post.title,\n",
    "            )\n",
    "        )\n",
    "\n",
    "    for comment in post.comments:\n",
    "        ratings.append(\n",
    "            dict(\n",
    "                values=extract_ranking(comment.body),\n",
    "                author=getattr(comment.author, \"name\", None),\n",
    "                text=comment.body,\n",
    "            )\n",
    "        )\n",
    "\n",
    "    num_faces = max(\n",
    "        chain.from_iterable(filter(None, map(lambda x: x[\"values\"], ratings))),\n",
    "        default=0,\n",
    "    )\n",
    "\n",
    "    if not num_faces:\n",
    "        continue\n",
    "    \n",
    "    try:\n",
    "        imgs = download_multiple_images(post)\n",
    "    except Exception:\n",
    "        continue\n",
    "\n",
    "    if not imgs:\n",
    "        continue\n",
    "\n",
    "    if len(imgs) == 1:\n",
    "        img, url = imgs[0]\n",
    "        detections = app.get(img)[:num_faces]\n",
    "        detections.sort(key=lambda x: x[\"bbox\"][0])\n",
    "        aligned = aligner.from_insight_face(img, detections)\n",
    "        urls = [url]\n",
    "    else:\n",
    "        if len(imgs) != num_faces:\n",
    "            continue\n",
    "\n",
    "        aligned, detections, urls = extract_multiple_faces(imgs)\n",
    "\n",
    "        if not aligned:\n",
    "            continue\n",
    "\n",
    "    data[post.id] = dict(\n",
    "        post_id=post.id,\n",
    "        post_author=getattr(post.author, \"name\", None),\n",
    "        ratings=ratings,\n",
    "        urls=urls,\n",
    "        detections=detections,\n",
    "    )\n",
    "\n",
    "    dir_path = img_path / post.id\n",
    "    dir_path.mkdir(exist_ok=True)\n",
    "\n",
    "    for j, img in enumerate(aligned):\n",
    "        img = cv2.cvtColor(img, cv2.COLOR_RGB2BGR)\n",
    "        cv2.imwrite(str(dir_path / f\"{j}.jpg\"), img)\n",
    "\n",
    "    if i % SAVE_EVERY:\n",
    "        save_data(data_path, data)\n"
   ]
  }
 ],
 "metadata": {
  "interpreter": {
   "hash": "857db26dd6c269166d7b8aa7786db6678ea642effbb6ba9e7d19a98d9de7d68b"
  },
  "kernelspec": {
   "display_name": "Python 3.8.8 64-bit ('base': conda)",
   "language": "python",
   "name": "python3"
  },
  "language_info": {
   "codemirror_mode": {
    "name": "ipython",
    "version": 3
   },
   "file_extension": ".py",
   "mimetype": "text/x-python",
   "name": "python",
   "nbconvert_exporter": "python",
   "pygments_lexer": "ipython3",
   "version": "3.8.8"
  },
  "orig_nbformat": 4
 },
 "nbformat": 4,
 "nbformat_minor": 2
}
